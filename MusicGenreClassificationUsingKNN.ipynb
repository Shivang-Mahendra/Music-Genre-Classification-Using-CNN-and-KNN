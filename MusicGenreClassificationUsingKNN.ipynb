{
 "cells": [
  {
   "cell_type": "code",
   "execution_count": 15,
   "id": "9ce7df86",
   "metadata": {},
   "outputs": [
    {
     "name": "stdout",
     "output_type": "stream",
     "text": [
      "Requirement already satisfied: python_speech_features in c:\\users\\asus\\appdata\\local\\programs\\python\\python39\\lib\\site-packages (0.6)\n",
      "Note: you may need to restart the kernel to use updated packages.\n"
     ]
    },
    {
     "name": "stderr",
     "output_type": "stream",
     "text": [
      "\n",
      "[notice] A new release of pip is available: 23.2.1 -> 23.3.2\n",
      "[notice] To update, run: c:\\users\\asus\\appdata\\local\\programs\\python\\python39\\python.exe -m pip install --upgrade pip\n"
     ]
    }
   ],
   "source": [
    "pip install python_speech_features"
   ]
  },
  {
   "cell_type": "code",
   "execution_count": 16,
   "id": "89152563",
   "metadata": {},
   "outputs": [],
   "source": [
    "import numpy as np\n",
    "import pandas as pd\n",
    "import scipy.io.wavfile as wav\n",
    "from python_speech_features import mfcc\n",
    "from tempfile import TemporaryFile\n",
    "import os\n",
    "import math\n",
    "import pickle\n",
    "import random\n",
    "import operator"
   ]
  },
  {
   "cell_type": "code",
   "execution_count": 17,
   "id": "1b940bf2",
   "metadata": {},
   "outputs": [
    {
     "name": "stdout",
     "output_type": "stream",
     "text": [
      "Requirement already satisfied: scipy in c:\\users\\asus\\appdata\\local\\programs\\python\\python39\\lib\\site-packages (1.10.0)\n",
      "Requirement already satisfied: numpy<1.27.0,>=1.19.5 in c:\\users\\asus\\appdata\\local\\programs\\python\\python39\\lib\\site-packages (from scipy) (1.26.3)\n",
      "Note: you may need to restart the kernel to use updated packages.\n"
     ]
    },
    {
     "name": "stderr",
     "output_type": "stream",
     "text": [
      "\n",
      "[notice] A new release of pip is available: 23.2.1 -> 23.3.2\n",
      "[notice] To update, run: c:\\users\\asus\\appdata\\local\\programs\\python\\python39\\python.exe -m pip install --upgrade pip\n"
     ]
    }
   ],
   "source": [
    "pip install scipy"
   ]
  },
  {
   "cell_type": "code",
   "execution_count": 18,
   "id": "e18f94d3",
   "metadata": {},
   "outputs": [],
   "source": [
    "def getNeighbour(DS, pos, k):\n",
    "    \n",
    "    dist = []\n",
    "    \n",
    "    for i in range(len(DS)):\n",
    "        dist1 = distance(DS[i], pos, k) + distance(pos, DS[i], k)\n",
    "        dist.append((DS[i][2], dist1))\n",
    "\n",
    "    dist.sort(key=operator.itemgetter(1))\n",
    "    neighbour = []\n",
    "    \n",
    "    for i in range(k):\n",
    "        neighbour.append(dist[i][0])\n",
    "    \n",
    "    return neighbour"
   ]
  },
  {
   "cell_type": "code",
   "execution_count": 19,
   "id": "a9ef8507",
   "metadata": {},
   "outputs": [],
   "source": [
    "def distance(inst1, inst2, k):\n",
    "    dist = 0\n",
    "    mm1 = inst1[0]\n",
    "    cm1 = inst1[1]\n",
    "    mm2 = inst2[0]\n",
    "    cm2 = inst2[1]\n",
    "    distance = np.trace(np.dot(np.linalg.inv(cm2), cm1))\n",
    "    distance += (np.dot(np.dot((mm2 - mm1).transpose(), np.linalg.inv(cm2)), mm2 - mm1))\n",
    "    distance += np.log(np.linalg.det(cm2)) - np.log(np.linalg.det(cm1))\n",
    "    distance -= k\n",
    "    return distance"
   ]
  },
  {
   "cell_type": "code",
   "execution_count": 20,
   "id": "7378ae44",
   "metadata": {},
   "outputs": [],
   "source": [
    "def classFinder(neighbour):\n",
    "    \n",
    "    sameClass = {}\n",
    "    \n",
    "    for i in range(len(neighbour)):\n",
    "        if neighbour[i] in sameClass:\n",
    "            sameClass[neighbour[i]] += 1\n",
    "        else:\n",
    "            sameClass[neighbour[i]] = 1\n",
    "    \n",
    "    sortedClass = sorted(sameClass.items(), key = operator.itemgetter(1), reverse = True)\n",
    "    \n",
    "    return sortedClass[0][0]"
   ]
  },
  {
   "cell_type": "code",
   "execution_count": 21,
   "id": "977674bd",
   "metadata": {},
   "outputs": [],
   "source": [
    "def accuracy(DS, predicted):\n",
    "    right = 0\n",
    "    \n",
    "    for i in range(len(DS)):\n",
    "        if DS[i][-1] == predicted[i] :\n",
    "            right += 1\n",
    "        \n",
    "    return 1.0*right / len(DS)"
   ]
  },
  {
   "cell_type": "code",
   "execution_count": 22,
   "id": "cb779cf2",
   "metadata": {},
   "outputs": [
    {
     "name": "stdout",
     "output_type": "stream",
     "text": [
      "Got an exception :  File format b'\\xcb\\x15\\x1e\\x16' not understood. Only 'RIFF' and 'RIFX' supported.\n"
     ]
    }
   ],
   "source": [
    "add = r'C:\\Users\\Asus\\OneDrive\\Desktop\\mini project 5th sem\\genres_original'\n",
    "f = open(\"dataset.dat\", \"wb\")\n",
    "i = 0\n",
    "for folder in os.listdir(add):\n",
    "    #print(folder)\n",
    "    i += 1\n",
    "    if i == 11:\n",
    "        break\n",
    "    for file in os.listdir(add + \"/\" + folder):\n",
    "#     for file in os.listdir(os.path.join(add,folder)):\n",
    "        # print(file)\n",
    "        try :\n",
    "            (rate, sign) = wav.read(add + \"/\" + folder + \"/\" + file)\n",
    "            mfcc_features = mfcc(sign, rate, winlen = 0.010, appendEnergy = False)\n",
    "            covariance = np.cov(np.matrix.transpose(mfcc_features))\n",
    "            mean_matrix = mfcc_features.mean(0)\n",
    "            feature = (mean_matrix, covariance, i)\n",
    "            pickle.dump(feature, f)\n",
    "        except Exception as e:\n",
    "            print(\"Got an exception : \", e);\n",
    "f.close()"
   ]
  },
  {
   "cell_type": "code",
   "execution_count": 23,
   "id": "c3fdf8a4",
   "metadata": {},
   "outputs": [],
   "source": [
    "dataset = []\n",
    "\n",
    "def loadDS(filename, split, trainS, testS):\n",
    "    with open('dataset.dat', 'rb') as f:\n",
    "        while True:\n",
    "            try :\n",
    "                dataset.append(pickle.load(f))\n",
    "            except EOFError :\n",
    "                f.close()\n",
    "                break\n",
    "    for i in range(len(dataset)):\n",
    "        if random.random() < split :\n",
    "            trainS.append(dataset[i])\n",
    "        else :\n",
    "            testS.append(dataset[i])\n",
    "            \n",
    "trainSet = []\n",
    "testSet = []\n",
    "loadDS('dataset.dat', 0.70, trainSet, testSet)"
   ]
  },
  {
   "cell_type": "code",
   "execution_count": 24,
   "id": "7112738f",
   "metadata": {},
   "outputs": [
    {
     "data": {
      "text/plain": [
       "675"
      ]
     },
     "execution_count": 24,
     "metadata": {},
     "output_type": "execute_result"
    }
   ],
   "source": [
    "len(trainSet)"
   ]
  },
  {
   "cell_type": "code",
   "execution_count": 25,
   "id": "26debc85",
   "metadata": {},
   "outputs": [
    {
     "data": {
      "text/plain": [
       "324"
      ]
     },
     "execution_count": 25,
     "metadata": {},
     "output_type": "execute_result"
    }
   ],
   "source": [
    "len(testSet)"
   ]
  },
  {
   "cell_type": "code",
   "execution_count": 26,
   "id": "daec48aa",
   "metadata": {},
   "outputs": [
    {
     "name": "stdout",
     "output_type": "stream",
     "text": [
      "67.5925925925926\n"
     ]
    }
   ],
   "source": [
    "predictions = []\n",
    "\n",
    "for i in range(len(testSet)):\n",
    "    predictions.append(classFinder(getNeighbour(trainSet, testSet[i], 10)))\n",
    "    \n",
    "acc1 = accuracy(testSet, predictions)\n",
    "print(acc1*100)"
   ]
  },
  {
   "cell_type": "code",
   "execution_count": 27,
   "id": "6200045c",
   "metadata": {},
   "outputs": [
    {
     "name": "stdout",
     "output_type": "stream",
     "text": [
      "defaultdict(<class 'int'>, {1: 'blues', 2: 'classical', 3: 'country', 4: 'disco', 5: 'hiphop', 6: 'jazz', 7: 'metal', 8: 'pop', 9: 'reggae', 10: 'rock'})\n"
     ]
    }
   ],
   "source": [
    "from collections import defaultdict\n",
    "results = defaultdict(int)\n",
    "\n",
    "directory = r'C:\\Users\\Asus\\OneDrive\\Desktop\\mini project 5th sem\\genres_original'\n",
    "\n",
    "i = 1\n",
    "for folder in os.listdir(directory):\n",
    "    results[i] = folder\n",
    "    i += 1\n",
    "    \n",
    "print(results)"
   ]
  },
  {
   "cell_type": "code",
   "execution_count": 28,
   "id": "a293536f",
   "metadata": {},
   "outputs": [
    {
     "name": "stdout",
     "output_type": "stream",
     "text": [
      "rock\n"
     ]
    }
   ],
   "source": [
    "predict = classFinder(getNeighbour(dataset, feature, 10))\n",
    "print(results[predict])"
   ]
  },
  {
   "cell_type": "code",
   "execution_count": null,
   "id": "523fb645",
   "metadata": {},
   "outputs": [],
   "source": []
  }
 ],
 "metadata": {
  "kernelspec": {
   "display_name": "Python 3 (ipykernel)",
   "language": "python",
   "name": "python3"
  },
  "language_info": {
   "codemirror_mode": {
    "name": "ipython",
    "version": 3
   },
   "file_extension": ".py",
   "mimetype": "text/x-python",
   "name": "python",
   "nbconvert_exporter": "python",
   "pygments_lexer": "ipython3",
   "version": "3.11.7"
  }
 },
 "nbformat": 4,
 "nbformat_minor": 5
}
